{
 "cells": [
  {
   "cell_type": "code",
   "outputs": [
    {
     "ename": "SyntaxError",
     "evalue": "invalid syntax (2524726468.py, line 1)",
     "output_type": "error",
     "traceback": [
      "\u001B[1;36m  Cell \u001B[1;32mIn[5], line 1\u001B[1;36m\u001B[0m\n\u001B[1;33m    First Lab,\u001B[0m\n\u001B[1;37m          ^\u001B[0m\n\u001B[1;31mSyntaxError\u001B[0m\u001B[1;31m:\u001B[0m invalid syntax\n"
     ]
    }
   ],
   "source": [
    "First Lab using numpy !\n"
   ],
   "metadata": {
    "collapsed": false,
    "ExecuteTime": {
     "end_time": "2024-03-01T00:02:52.123256900Z",
     "start_time": "2024-03-01T00:02:52.087531300Z"
    }
   },
   "id": "340d8203271f2e8",
   "execution_count": 5
  },
  {
   "cell_type": "code",
   "outputs": [
    {
     "name": "stdout",
     "output_type": "stream",
     "text": [
      "[[11 12 13 14]\n",
      " [15 16 17 18]]\n"
     ]
    }
   ],
   "source": [
    "import numpy as np\n",
    "\n",
    "# Create a rank 2 array\n",
    "array_2d = np.array([[11, 12, 13, 14],\n",
    "                     [15, 16, 17, 18]])\n",
    "\n",
    "print(array_2d)"
   ],
   "metadata": {
    "collapsed": false,
    "ExecuteTime": {
     "end_time": "2024-02-29T23:50:58.005236400Z",
     "start_time": "2024-02-29T23:50:56.760498400Z"
    }
   },
   "id": "f936977966cae28a",
   "execution_count": 2
  },
  {
   "cell_type": "code",
   "outputs": [
    {
     "name": "stdout",
     "output_type": "stream",
     "text": [
      "[[0. 0. 0.]\n",
      " [0. 0. 0.]\n",
      " [0. 0. 0.]\n",
      " [0. 0. 0.]]\n"
     ]
    }
   ],
   "source": [
    "import numpy as np\n",
    "\n",
    "# Create an array with 4 rows and 3 columns of zeros\n",
    "array_zeros = np.zeros((4, 3))\n",
    "\n",
    "print(array_zeros)"
   ],
   "metadata": {
    "collapsed": false,
    "ExecuteTime": {
     "end_time": "2024-02-29T23:54:58.225678700Z",
     "start_time": "2024-02-29T23:54:58.167657200Z"
    }
   },
   "id": "cb757dd5190ce4e9",
   "execution_count": 3
  },
  {
   "cell_type": "code",
   "outputs": [
    {
     "name": "stdout",
     "output_type": "stream",
     "text": [
      "[[1. 1. 1. 1.]\n",
      " [1. 1. 1. 1.]\n",
      " [1. 1. 1. 1.]]\n",
      "[ 4  5  6  7  8  9 10 11 12 13]\n",
      "[0.  1.5 3.  4.5]\n"
     ]
    }
   ],
   "source": [
    "# 2. Create an array of ones with 3 rows and 4 columns\n",
    "array1 = np.ones((3, 4))\n",
    "print(array1)\n",
    "\n",
    "# 3. Create an array containing integers 4 to 13 inclusive\n",
    "array2 = np.arange(4, 14)\n",
    "print(array2)\n",
    "\n",
    "# 4. Create an array containing [0., 1.5, 3., 4.5]\n",
    "array3 = np.array([0., 1.5, 3., 4.5])\n",
    "print(array3)\n"
   ],
   "metadata": {
    "collapsed": false,
    "ExecuteTime": {
     "end_time": "2024-03-01T02:54:13.479079300Z",
     "start_time": "2024-03-01T02:54:13.412105100Z"
    }
   },
   "id": "8d9c0b70d3564526",
   "execution_count": 8
  },
  {
   "cell_type": "code",
   "outputs": [
    {
     "name": "stdout",
     "output_type": "stream",
     "text": [
      "[[4 4]\n",
      " [4 4]]\n",
      "[[1. 0. 0. 0.]\n",
      " [0. 1. 0. 0.]\n",
      " [0. 0. 1. 0.]\n",
      " [0. 0. 0. 1.]]\n",
      "[[10  0]\n",
      " [ 0 12]]\n",
      "[[8.26942529 9.45726251 4.29319513]\n",
      " [4.13827492 8.90273357 3.51658664]\n",
      " [8.27019502 3.19773095 6.26135321]]\n"
     ]
    }
   ],
   "source": [
    "# 5. Create a 2 by 2 array containing '4' in each position\n",
    "array4 = np.full((2, 2), 4)\n",
    "print(array4)\n",
    "\n",
    "# 6. Create matrices: i. Identity matrix of size 4\n",
    "identity_matrix = np.eye(4)\n",
    "print(identity_matrix)\n",
    "# ii. Diagonal matrix with [10,12] as the diagonals\n",
    "diagonal_matrix = np.diag([10, 12])\n",
    "print(diagonal_matrix)\n",
    "\n",
    "# 7. Create a 3 by 3 array with random floats in [0, 10]\n",
    "random_floats = np.random.rand(3, 3) * 10\n",
    "print(random_floats)"
   ],
   "metadata": {
    "collapsed": false,
    "ExecuteTime": {
     "end_time": "2024-03-01T02:54:46.680992700Z",
     "start_time": "2024-03-01T02:54:46.638659Z"
    }
   },
   "id": "63f4edc59fd2365e",
   "execution_count": 9
  },
  {
   "cell_type": "code",
   "outputs": [
    {
     "name": "stdout",
     "output_type": "stream",
     "text": [
      "[[17 19 18]\n",
      " [10 20 14]\n",
      " [11 18 13]]\n",
      "[11 12]\n",
      "[[ 0  0  0]\n",
      " [ 0  0  0]\n",
      " [17 18 19]]\n",
      "[20 19 18 17 16 15 14 13 12 11 10  9  8  7  6  5  4  3  2  1  0]\n"
     ]
    }
   ],
   "source": [
    "# 8. Create a 3 by 3 array with random integers in [10, 20]\n",
    "random_integers = np.random.randint(10, 21, size=(3, 3))\n",
    "print(random_integers)\n",
    "\n",
    "# SLICING ARRAYS\n",
    "# Given array\n",
    "myArray = np.array([[11, 12, 13], [14, 15, 16], [17, 18, 19]])\n",
    "# a. Get a subarray of the first row and first 2 columns\n",
    "sub_array_a = myArray[0, :2]\n",
    "print(sub_array_a)\n",
    "# b. Change all elements in 1st and second row to 0\n",
    "myArray[:2] = 0\n",
    "print(myArray)\n",
    "\n",
    "# 2. Create an array and reverse the order\n",
    "reversed_array = np.arange(21)[::-1]\n",
    "print(reversed_array)"
   ],
   "metadata": {
    "collapsed": false,
    "ExecuteTime": {
     "end_time": "2024-03-01T02:55:10.684379Z",
     "start_time": "2024-03-01T02:55:10.663482300Z"
    }
   },
   "id": "f2f82087af462a3",
   "execution_count": 10
  },
  {
   "cell_type": "code",
   "outputs": [
    {
     "name": "stdout",
     "output_type": "stream",
     "text": [
      "[[11 12]\n",
      " [13 14]\n",
      " [15 16]]\n",
      "[ 0  1  4  9 16 25 36 49 64 81]\n",
      "[0.         1.         1.41421356 1.73205081 2.         2.23606798\n",
      " 2.44948974 2.64575131 2.82842712 3.        ]\n",
      "[  0.           1.           5.65685425  15.58845727  32.\n",
      "  55.90169944  88.18163074 129.64181424 181.01933598 243.        ]\n"
     ]
    }
   ],
   "source": [
    "# RESHAPING\n",
    "# Given array\n",
    "myArray = np.array([[11, 12, 13], [14, 15, 16]])\n",
    "# Reshape the array to an array with 3 rows\n",
    "reshaped_array = myArray.reshape(3, -1)\n",
    "print(reshaped_array)\n",
    "\n",
    "# MATH\n",
    "# Given array\n",
    "myArray = np.arange(10)\n",
    "# 1. Find the square of every number in array\n",
    "squared_array = np.square(myArray)\n",
    "print(squared_array)\n",
    "# 2. Find the square root of every number in array\n",
    "sqrt_array = np.sqrt(myArray)\n",
    "print(sqrt_array)\n",
    "# 3. Multiply the square of each number in array with its respective square root\n",
    "result_array = squared_array * sqrt_array\n",
    "print(result_array)"
   ],
   "metadata": {
    "collapsed": false,
    "ExecuteTime": {
     "end_time": "2024-03-01T02:56:49.440791Z",
     "start_time": "2024-03-01T02:56:49.415907600Z"
    }
   },
   "id": "ffb0b0a9b614f35e",
   "execution_count": 11
  },
  {
   "cell_type": "code",
   "outputs": [],
   "source": [
    "# ADDING ELEMENTS\n",
    "# Given array\n",
    "myArray = np.array([[11, 12, 13], [14, 15, 16], [17, 18, 19]])\n",
    "# 1. Add a new row of elements containing 20, 21 and 22\n",
    "myArray = np.vstack([myArray, [20, 21, 22]])\n",
    "print(myArray)\n",
    "# 2. Add a new column of elements containing 30, 40 and 50\n",
    "myArray = np.hstack([myArray, np.array([[30], [40], [50]])])\n",
    "print(myArray)\n"
   ],
   "metadata": {
    "collapsed": false,
    "ExecuteTime": {
     "end_time": "2024-03-01T03:13:15.811120200Z",
     "start_time": "2024-03-01T03:13:15.678102800Z"
    }
   },
   "id": "3f08ce466446f442",
   "execution_count": 20
  },
  {
   "cell_type": "code",
   "outputs": [
    {
     "name": "stdout",
     "output_type": "stream",
     "text": [
      "[[2. 2.]\n",
      " [0. 1.]\n",
      " [0. 1.]]\n",
      "[[1 3]\n",
      " [4 6]\n",
      " [9 7]]\n"
     ]
    }
   ],
   "source": [
    "# INSERTING ELEMENTS\n",
    "# 1. Add 1 column of 1 to this array\n",
    "myArray = np.zeros((2, 2))\n",
    "myArray = np.insert(myArray, 1, 1, axis=1)\n",
    "# 2. Add 2 rows of 2 to the answer from part 1\n",
    "myArray = np.insert(myArray, [0, myArray.shape[0]], 2, axis=0)\n",
    "# 3. Remove the last column\n",
    "myArray = np.delete(myArray, -1, axis=1)\n",
    "# 4. Remove the last row\n",
    "myArray = np.delete(myArray, -1, axis=0)\n",
    "print(myArray)\n",
    "\n",
    "# DELETING ELEMENTS\n",
    "# Given array\n",
    "myArray = np.matrix([[1, 2, 3], [4, 5, 6], [9, 8, 7]])\n",
    "# Remove the elements from the middle column\n",
    "myArray = np.delete(myArray, 1, axis=1)\n",
    "print(myArray)\n"
   ],
   "metadata": {
    "collapsed": false,
    "ExecuteTime": {
     "end_time": "2024-03-01T03:13:58.685753Z",
     "start_time": "2024-03-01T03:13:58.582610600Z"
    }
   },
   "id": "dc163ffa7a4d7521",
   "execution_count": 21
  },
  {
   "cell_type": "code",
   "outputs": [
    {
     "name": "stdout",
     "output_type": "stream",
     "text": [
      "[ 0 -1  2 -1  4 -1  6 -1  8 -1]\n",
      "[[0 1 2]\n",
      " [3 4 5]\n",
      " [6 7 8]]\n",
      "[[202 203]\n",
      " [204 205]]\n",
      "[34 33 36 35 38 32 33 30 35 32]\n",
      "(array([1, 2, 4, 5, 6, 7, 8, 9], dtype=int64),) (array([0], dtype=int64),)\n",
      "[[ 0  1  2  3]\n",
      " [20 21 22 23]\n",
      " [40 41 42 43]\n",
      " [60 61 62 63]\n",
      " [80 81 82 83]]\n"
     ]
    }
   ],
   "source": [
    "# TEST EXERCISE\n",
    "# Replace all odd numbers with -1\n",
    "exercise_1 = np.array([0, 1, 2, 3, 4, 5, 6, 7, 8, 9])\n",
    "exercise_1[exercise_1 % 2 != 0] = -1\n",
    "print(exercise_1)\n",
    "\n",
    "# Convert a 1-D array into a 2-D array with 3 rows\n",
    "exercise_2 = np.array([0, 1, 2, 3, 4, 5, 6, 7, 8]).reshape(3, -1)\n",
    "print(exercise_2)\n",
    "\n",
    "# Add 202 to all the values in given array\n",
    "exercise_3 = np.arange(4).reshape(2,-1) + 202\n",
    "print(exercise_3)\n",
    "\n",
    "# Generate a 1-D array of 10 random integers between 30 and 40\n",
    "random_integers = np.random.randint(30, 41, size=10)\n",
    "print(random_integers)\n",
    "\n",
    "# Find the positions where x > y and x == y\n",
    "x = np.array([21, 64, 86, 22, 74, 55, 81, 79, 90, 89])\n",
    "y = np.array([21, 7, 3, 45, 10, 29, 55, 4, 37, 18])\n",
    "indices_gt = np.where(x > y)\n",
    "indices_eq = np.where(x == y)\n",
    "print(indices_gt, indices_eq)\n",
    "\n",
    "# Extract the first four columns of this 2-D array\n",
    "exercise_6 = np.arange(100).reshape(5, -1)\n",
    "extracted_columns = exercise_6[:, :4]\n",
    "print(extracted_columns)"
   ],
   "metadata": {
    "collapsed": false,
    "ExecuteTime": {
     "end_time": "2024-03-01T03:15:10.339080300Z",
     "start_time": "2024-03-01T03:15:10.236956700Z"
    }
   },
   "id": "7d45fbf599ebe0a4",
   "execution_count": 22
  }
 ],
 "metadata": {
  "kernelspec": {
   "display_name": "Python 3",
   "language": "python",
   "name": "python3"
  },
  "language_info": {
   "codemirror_mode": {
    "name": "ipython",
    "version": 2
   },
   "file_extension": ".py",
   "mimetype": "text/x-python",
   "name": "python",
   "nbconvert_exporter": "python",
   "pygments_lexer": "ipython2",
   "version": "2.7.6"
  }
 },
 "nbformat": 4,
 "nbformat_minor": 5
}
