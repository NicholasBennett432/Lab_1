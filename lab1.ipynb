{
 "cells": [
  {
   "cell_type": "code",
   "execution_count": null,
   "id": "initial_id",
   "metadata": {
    "collapsed": true
   },
   "outputs": [],
   "source": [
    "NUMPY PRACTICE\n",
    "CREATING ARRAYS\n",
    "1. Create a rank 2 (2D) array that resembles the matrix below.\n",
    "[[11 12 13 14]\n",
    " [15 16 17 18]]\n",
    "Use the appropriate functions to solve the following questions\n",
    "1. Create an array with 4 rows and 3 columns of zeros. Your results should look as below:\n",
    "[[0. 0. 0.]\n",
    " [0. 0. 0.]\n",
    " [0. 0. 0.]\n",
    " [0. 0. 0.]]\n",
    "2.Create an array of ones that has 3 rows and 4 columns. Your results should look as below:\n",
    "[[1. 1. 1. 1.]\n",
    "[1. 1. 1. 1.]\n",
    "[1. 1. 1. 1.]]\n",
    "3. Create an array containing integers 4 to 13 inclusive. Your results should look as below:\n",
    "[4 5 6 7 8 9 10 11 12 13]\n",
    "4. Create an array containing\n",
    "[0., 1.5, 3., 4.5]\n",
    "5. Create a 2 by 2 array containing '4' in each position. Your results should look like this:\n",
    "[[4 4]\n",
    " [4 4]]\n",
    "6\n",
    ". Create 2 matrices:\n",
    "i. Identity matrix of size 4\n",
    "[[1. 0. 0. 0.]\n",
    " [0. 1. 0. 0.]\n",
    " [0. 0. 1. 0.]\n",
    " [0. 0. 0. 1.]]\n",
    "ii. Diagonal matrix with [10,12] as the diagonals\n",
    "[[10  0]\n",
    " [ 0 12]]\n",
    "7. Create a 3 by 3 array with random floats in [0, 10]. Your answer may be different because it is random but it should look something like this:\n",
    "[[6.3685612  0.61720883 8.93157783]\n",
    " [3.69927617 5.79879583 7.62145626]\n",
    " [7.21895112 4.02011535 4.48844787]]\n",
    "8. Create a 3 by 3 array with random integers in [10, 20]. Your answer may be different because it is random but it should look something like this:\n",
    "[[19 11 13]\n",
    " [10 11 13]\n",
    " [11 14 10]]\n",
    "SLICING ARRAYS\n",
    "1. Use this array for the following practice:\n",
    "myArray = np.array([[11,12,13], [14,15,16], [17,18,19]])\n",
    "a. Get a subarray of the first row and first 2 columns. Your results should look like this:\n",
    "[11 12]\n",
    "b. Change all elements in 1st and second row to 0. Your results should look like this:\n",
    "[[ 0  0  0]\n",
    " [ 0  0  0]\n",
    " [17 18 19]]\n",
    "2. Create an array that contains [0,1,2,3,4,5,6,7,8,9,10,11,12,13,14,15,16,17,18,19,20] and reverse the order.\n",
    "RESHAPING\n",
    "Use this array for the following practice:\n",
    "myArray = np.array([[11,12,13], [14,15,16]])\n",
    "Reshape the array to an array with 3 rows. Your results should look like this:\n",
    "[[11 12]\n",
    " [13 14]\n",
    " [15 16]]\n",
    "MATH\n",
    "Use this array for the following practice:\n",
    "myArray = np.arange(10)\n",
    "1. Find the square of every number in array\n",
    "2. Find the square root of every number in array\n",
    "3. Multiply the square of each number in array with its respective square root\n",
    "ADDING ELEMENTS\n",
    "Use this array for the following practice:\n",
    "myArray = np.array([[11,12,13], [14,15,16], [17,18,19]])\n",
    "1. Add a new row of elements containing 20, 21 and 22\n",
    "2. Add a new column of elements containing 30, 40 and 50\n",
    "INSERTING ELEMENTS\n",
    "1. Add 1 column of 1 to this array: myArray = np.zeros((2,2))\n",
    "2. Add 2 rows of 2 to the answer from part 1\n",
    "3. Remove the last column\n",
    "4. Remove the last row\n",
    "DELETING ELEMENTS\n",
    "Remove the elements from the middle column of this array:\n",
    "myArray = np.matrix([[1, 2, 3], [4, 5, 6], [9, 8, 7]])\n",
    "Your codes should look like this:\n",
    "[[1 3]\n",
    " [4 6]\n",
    " [9 7]]\n",
    "TEST EXERCISE\n",
    "Replace all odd numbers in the given array with -1\n",
    "Start with:\n",
    "exercise_1 = np.array([0, 1, 2, 3, 4, 5, 6, 7, 8, 9])\n",
    "Desired output:\n",
    "[ 0, -1, 2, -1, 4, -1, 6, -1, 8, -1]\n",
    "Convert a 1-D array into a 2-D array with 3 rows\n",
    "Start with:\n",
    "exercise_2 = np.array([0, 1, 2, 3, 4, 5, 6, 7, 8])\n",
    "Desired output:\n",
    "[[ 0, 1, 2]\n",
    "[3, 4, 5]\n",
    "[6, 7, 8]]\n",
    "Add 202 to all the values in given array\n",
    "Start with:\n",
    "exercise_3 = np.arange(4).reshape(2,-1)\n",
    "Desired output:\n",
    "[[202, 203]\n",
    "[204, 205]]\n",
    "Generate a 1-D array of 10 random integers. Each integer should be a number between 30 and 40 (inclusive)\n",
    "Sample of desired output:\n",
    "[36, 30, 36, 38, 31, 35, 36, 30, 32, 34]\n",
    "Find the positions of:\n",
    "elements in x where its value is more than its corresponding element in y, and\n",
    "elements in x where its value is equals to its corresponding element in y.\n",
    "Start with these:\n",
    "x = np.array([21, 64, 86, 22, 74, 55, 81, 79, 90, 89])\n",
    "y = np.array([21, 7, 3, 45, 10, 29, 55, 4, 37, 18])\n",
    "Desired output:\n",
    "(array([1, 2, 4, 5, 6, 7, 8, 9]),) and (array([0]),)\n",
    "Extract the first four columns of this 2-D array\n",
    "Start with this:\n",
    "exercise_6 = np.arange(100).reshape(5,-1)\n",
    "Desired output:\n",
    "[[ 0 1 2 3]\n",
    "[20 21 22 23]\n",
    "[40 41 42 43]\n",
    "[60 61 62 63]\n",
    "[80 81 82 83]]\n"
   ]
  },
  {
   "cell_type": "code",
   "outputs": [
    {
     "ename": "SyntaxError",
     "evalue": "invalid syntax (2524726468.py, line 1)",
     "output_type": "error",
     "traceback": [
      "\u001B[1;36m  Cell \u001B[1;32mIn[5], line 1\u001B[1;36m\u001B[0m\n\u001B[1;33m    First Lab,\u001B[0m\n\u001B[1;37m          ^\u001B[0m\n\u001B[1;31mSyntaxError\u001B[0m\u001B[1;31m:\u001B[0m invalid syntax\n"
     ]
    }
   ],
   "source": [
    "First Lab,\n"
   ],
   "metadata": {
    "collapsed": false,
    "ExecuteTime": {
     "end_time": "2024-03-01T00:02:52.123256900Z",
     "start_time": "2024-03-01T00:02:52.087531300Z"
    }
   },
   "id": "340d8203271f2e8",
   "execution_count": 5
  },
  {
   "cell_type": "code",
   "outputs": [
    {
     "name": "stdout",
     "output_type": "stream",
     "text": [
      "[[11 12 13 14]\n",
      " [15 16 17 18]]\n"
     ]
    }
   ],
   "source": [
    "import numpy as np\n",
    "\n",
    "# Create a rank 2 array\n",
    "array_2d = np.array([[11, 12, 13, 14],\n",
    "                     [15, 16, 17, 18]])\n",
    "\n",
    "print(array_2d)"
   ],
   "metadata": {
    "collapsed": false,
    "ExecuteTime": {
     "end_time": "2024-02-29T23:50:58.005236400Z",
     "start_time": "2024-02-29T23:50:56.760498400Z"
    }
   },
   "id": "f936977966cae28a",
   "execution_count": 2
  },
  {
   "cell_type": "code",
   "outputs": [
    {
     "name": "stdout",
     "output_type": "stream",
     "text": [
      "[[0. 0. 0.]\n",
      " [0. 0. 0.]\n",
      " [0. 0. 0.]\n",
      " [0. 0. 0.]]\n"
     ]
    }
   ],
   "source": [
    "import numpy as np\n",
    "\n",
    "# Create an array with 4 rows and 3 columns of zeros\n",
    "array_zeros = np.zeros((4, 3))\n",
    "\n",
    "print(array_zeros)"
   ],
   "metadata": {
    "collapsed": false,
    "ExecuteTime": {
     "end_time": "2024-02-29T23:54:58.225678700Z",
     "start_time": "2024-02-29T23:54:58.167657200Z"
    }
   },
   "id": "cb757dd5190ce4e9",
   "execution_count": 3
  },
  {
   "cell_type": "code",
   "outputs": [],
   "source": [],
   "metadata": {
    "collapsed": false
   },
   "id": "8d9c0b70d3564526"
  }
 ],
 "metadata": {
  "kernelspec": {
   "display_name": "Python 3",
   "language": "python",
   "name": "python3"
  },
  "language_info": {
   "codemirror_mode": {
    "name": "ipython",
    "version": 2
   },
   "file_extension": ".py",
   "mimetype": "text/x-python",
   "name": "python",
   "nbconvert_exporter": "python",
   "pygments_lexer": "ipython2",
   "version": "2.7.6"
  }
 },
 "nbformat": 4,
 "nbformat_minor": 5
}
